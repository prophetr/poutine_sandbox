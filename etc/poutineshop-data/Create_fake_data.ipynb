{
 "cells": [
  {
   "cell_type": "code",
   "execution_count": 38,
   "id": "ced1206d-b023-43f2-9562-ad34b99005ae",
   "metadata": {},
   "outputs": [],
   "source": [
    "# add bad data - \n",
    "#  missing data / rows\n",
    "# duplicate rows"
   ]
  },
  {
   "cell_type": "code",
   "execution_count": 39,
   "id": "c25bb357-b581-4087-bda2-a9aa43915bd8",
   "metadata": {},
   "outputs": [],
   "source": [
    "from pydbgen import pydbgen\n",
    "import pandas as pd\n",
    "import random\n",
    "import numpy\n",
    "from random import randrange\n",
    "from datetime import timedelta\n",
    "from datetime import datetime"
   ]
  },
  {
   "cell_type": "code",
   "execution_count": 40,
   "id": "393ceb45-d784-4df0-8ed9-ef9f160b8d4b",
   "metadata": {},
   "outputs": [],
   "source": [
    "myDB = pydbgen.pydb()"
   ]
  },
  {
   "cell_type": "code",
   "execution_count": 41,
   "id": "4d41e3dc-5d18-4916-bd50-31a1e0503ab7",
   "metadata": {},
   "outputs": [],
   "source": [
    "customers=myDB.gen_dataframe(\n",
    "1000, fields=['name','date','city','state','zipcode','phone','email'],\n",
    "real_email=True,phone_simple=True,real_city=True\n",
    ")"
   ]
  },
  {
   "cell_type": "code",
   "execution_count": 42,
   "id": "6ec674d8-e618-474b-bda0-931546bf4e94",
   "metadata": {},
   "outputs": [],
   "source": [
    "def apply_gender(x):\n",
    "    if x <=0.4: gender='male'\n",
    "    elif x <=0.8: gender='female'\n",
    "    else: gender='other'\n",
    "    return gender"
   ]
  },
  {
   "cell_type": "code",
   "execution_count": 43,
   "id": "ade1effa-1671-45a6-9ceb-895247cc960b",
   "metadata": {},
   "outputs": [],
   "source": [
    "customers['gender'] = [random.random() for row in customers['name']]\n",
    "customers['gender'] = [apply_gender(row) for row in customers['gender']]\n",
    "customers['customer_id'] = customers.index\n",
    "customers = customers.rename(columns={'date':'birthdate'})"
   ]
  },
  {
   "cell_type": "code",
   "execution_count": null,
   "id": "c0c24339-7b35-4455-be61-32b3ca0ecbe5",
   "metadata": {},
   "outputs": [],
   "source": []
  },
  {
   "cell_type": "code",
   "execution_count": 44,
   "id": "3ee6999b-20d8-4ecd-9199-ec19c047bdee",
   "metadata": {
    "tags": []
   },
   "outputs": [],
   "source": [
    "products = pd.read_csv('products.csv')"
   ]
  },
  {
   "cell_type": "code",
   "execution_count": 45,
   "id": "032a963f-991d-45dd-86b5-a441f412732e",
   "metadata": {
    "tags": []
   },
   "outputs": [],
   "source": [
    "food_choices = products['product_id'][products.type =='food'].values\n",
    "beverage_choices = products['product_id'][products.type =='beverage'].values\n",
    "extra_choices = products['product_id'][products.type =='extra'].values"
   ]
  },
  {
   "cell_type": "code",
   "execution_count": 46,
   "id": "5d428a30-68a6-4b94-a2fd-b67fbb5e36f4",
   "metadata": {
    "tags": []
   },
   "outputs": [],
   "source": [
    "def create_order():\n",
    "    customer_id = random.choice(customers['customer_id'])\n",
    "    food = []\n",
    "    drink = []\n",
    "    extra = []\n",
    "    complete = False\n",
    "    cycle_count = 0\n",
    "    while complete == False:\n",
    "        cycle_count += 1\n",
    "        if (0.9 - 0.1*len(food)**2) > random.random():\n",
    "            food_id = random.choice(food_choices)\n",
    "            food.append(food_id)\n",
    "            if 0.9 - 0.2*len(extra)**2 > random.random():\n",
    "                extra.append(random.choice(products['product_id'][(products['type'] =='extra') & (products['size'] == products['size'][products.product_id == food_id].values[0])].values))\n",
    "        if (0.25 + 0.5*(len(food)-len(drink)) > random.random()) and ((0.9 - 0.1*len(drink)**2) > random.random()):\n",
    "            drink.append(random.choice(beverage_choices))\n",
    "        if (len(food) > 0 or len(drink) > 0) and (.8*cycle_count**2 > random.random()):\n",
    "            complete = True\n",
    "    order_items = pd.DataFrame([*food, *drink, *extra], columns=['product_id'])\n",
    "    order_items['customer_id'] = customer_id\n",
    "    order_items = order_items.groupby(by=[\"product_id\"]).count().reset_index()\n",
    "    order_items = order_items.rename(columns ={'customer_id':'quantity'})\n",
    "    order_items['customer_id'] = customer_id\n",
    "    order_items = order_items.merge(products[['name','product_id','cost']], on='product_id', how='left')\n",
    "    orders = order_items\n",
    "    orders['subtotal'] = orders['quantity']*orders['cost']*100\n",
    "    orders = orders[['customer_id','quantity','subtotal']].groupby(by='customer_id').sum().reset_index()\n",
    "    orders['tax'] = int(0.13*orders['subtotal'])\n",
    "    orders['total'] = orders['subtotal'] + orders['tax']\n",
    "    orders = orders.astype('int32')\n",
    "    return order_items, orders"
   ]
  },
  {
   "cell_type": "code",
   "execution_count": 47,
   "id": "b7429c81-4d95-466d-94e0-d3185346fe3e",
   "metadata": {},
   "outputs": [
    {
     "data": {
      "text/html": [
       "<div>\n",
       "<style scoped>\n",
       "    .dataframe tbody tr th:only-of-type {\n",
       "        vertical-align: middle;\n",
       "    }\n",
       "\n",
       "    .dataframe tbody tr th {\n",
       "        vertical-align: top;\n",
       "    }\n",
       "\n",
       "    .dataframe thead th {\n",
       "        text-align: right;\n",
       "    }\n",
       "</style>\n",
       "<table border=\"1\" class=\"dataframe\">\n",
       "  <thead>\n",
       "    <tr style=\"text-align: right;\">\n",
       "      <th></th>\n",
       "      <th>product_id</th>\n",
       "      <th>quantity</th>\n",
       "      <th>customer_id</th>\n",
       "      <th>name</th>\n",
       "      <th>cost</th>\n",
       "      <th>subtotal</th>\n",
       "    </tr>\n",
       "  </thead>\n",
       "  <tbody>\n",
       "    <tr>\n",
       "      <th>0</th>\n",
       "      <td>6</td>\n",
       "      <td>1</td>\n",
       "      <td>214</td>\n",
       "      <td>l_fr</td>\n",
       "      <td>4.99</td>\n",
       "      <td>499.0</td>\n",
       "    </tr>\n",
       "    <tr>\n",
       "      <th>1</th>\n",
       "      <td>12</td>\n",
       "      <td>1</td>\n",
       "      <td>214</td>\n",
       "      <td>l_ext_grv</td>\n",
       "      <td>0.99</td>\n",
       "      <td>99.0</td>\n",
       "    </tr>\n",
       "  </tbody>\n",
       "</table>\n",
       "</div>"
      ],
      "text/plain": [
       "   product_id  quantity  customer_id       name  cost  subtotal\n",
       "0           6         1          214       l_fr  4.99     499.0\n",
       "1          12         1          214  l_ext_grv  0.99      99.0"
      ]
     },
     "execution_count": 47,
     "metadata": {},
     "output_type": "execute_result"
    }
   ],
   "source": [
    "order_items, orders = create_order()\n",
    "order_items"
   ]
  },
  {
   "cell_type": "code",
   "execution_count": 48,
   "id": "7e9c1c12-7e17-4b0d-bee6-788295ced59c",
   "metadata": {},
   "outputs": [],
   "source": [
    "order_items = pd.DataFrame()\n",
    "orders = pd.DataFrame()\n",
    "start = datetime.strptime('1/1/2021 12:00 AM', '%m/%d/%Y %I:%M %p')\n",
    "for i in range(1,10001):\n",
    "    item, order = create_order()\n",
    "    item['order_id'] = i\n",
    "    order['order_id'] = i\n",
    "    if i > 1:\n",
    "        start = orders['created_at'].loc[i-2]\n",
    "    random_second = randrange(10000)\n",
    "    created_at = start + timedelta(seconds=random_second)\n",
    "    item['created_at'] = created_at\n",
    "    order['created_at'] = created_at\n",
    "    order_items = pd.concat([order_items, item]).reset_index(drop=True)\n",
    "    orders = pd.concat([orders, order]).reset_index(drop=True)\n",
    "    if(random.random() > 0.99):\n",
    "        orders = pd.concat([orders, order]).reset_index(drop=True)"
   ]
  },
  {
   "cell_type": "code",
   "execution_count": 49,
   "id": "9b1b58b2-d8b3-4092-890f-0bf74ccca882",
   "metadata": {},
   "outputs": [],
   "source": [
    "fulfillment = pd.DataFrame()\n",
    "for index, row in orders.iterrows():\n",
    "        order_created = orders[['order_id','customer_id','created_at']].loc[index]\n",
    "        order_created['event_id'] = 1\n",
    "        order_created['event_name'] = 'order_created'\n",
    "        order_id = order_created['order_id']\n",
    "        customer_id = order_created['customer_id']\n",
    "        random_second = randrange(10800)\n",
    "        order_packaged_at = order_created['created_at'] + timedelta(seconds=(random_second+3600))\n",
    "        order_created = pd.concat([pd.DataFrame(order_created, columns=['order_id','customer_id','created_at','event_id','event_name']), pd.DataFrame([[order_id, customer_id, order_packaged_at, 2, 'order_packaged']], columns=['order_id','customer_id','created_at','event_id','event_name'])])\n",
    "        random_second = randrange(15800)\n",
    "        order_shipped_at = order_packaged_at + timedelta(seconds=(random_second+20000))\n",
    "        order_created = pd.concat([order_created, pd.DataFrame([[order_id, customer_id, order_shipped_at, 3, 'order_shipped']], columns=['order_id','customer_id','created_at','event_id','event_name'])])\n",
    "        random_second = randrange(30800)\n",
    "        order_delivered_at = order_packaged_at + timedelta(seconds=(random_second+86400))\n",
    "        order_created = pd.concat([order_created, pd.DataFrame([[order_id, customer_id, order_delivered_at, 3, 'order_delivered']], columns=['order_id','customer_id','created_at','event_id','event_name'])])\n",
    "        fulfillment = pd.concat([fulfillment, order_created])"
   ]
  },
  {
   "cell_type": "code",
   "execution_count": 50,
   "id": "f8585acc-3d50-40d2-b294-f5807574f72b",
   "metadata": {},
   "outputs": [],
   "source": [
    "orders.to_csv('orders.csv')\n",
    "order_items.to_csv('order_items.csv')\n",
    "fulfillment.to_csv('fulfillment.csv')\n",
    "customers.to_csv('customers.csv')"
   ]
  },
  {
   "cell_type": "code",
   "execution_count": null,
   "id": "b4935897-2a6a-4af4-9551-66aed58d58e4",
   "metadata": {},
   "outputs": [],
   "source": []
  },
  {
   "cell_type": "code",
   "execution_count": null,
   "id": "b3135d86-b1f8-44e3-9f2d-ba63ee079d57",
   "metadata": {},
   "outputs": [],
   "source": []
  }
 ],
 "metadata": {
  "kernelspec": {
   "display_name": "Python 3 (ipykernel)",
   "language": "python",
   "name": "python3"
  },
  "language_info": {
   "codemirror_mode": {
    "name": "ipython",
    "version": 3
   },
   "file_extension": ".py",
   "mimetype": "text/x-python",
   "name": "python",
   "nbconvert_exporter": "python",
   "pygments_lexer": "ipython3",
   "version": "3.8.10"
  }
 },
 "nbformat": 4,
 "nbformat_minor": 5
}
