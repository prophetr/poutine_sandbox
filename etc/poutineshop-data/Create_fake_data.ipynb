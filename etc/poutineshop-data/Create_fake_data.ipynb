{
 "cells": [
  {
   "cell_type": "code",
   "execution_count": 30,
   "id": "ced1206d-b023-43f2-9562-ad34b99005ae",
   "metadata": {},
   "outputs": [],
   "source": [
    "# add bad data - \n",
    "#  missing data / rows\n",
    "# duplicate rows"
   ]
  },
  {
   "cell_type": "code",
   "execution_count": 31,
   "id": "c25bb357-b581-4087-bda2-a9aa43915bd8",
   "metadata": {},
   "outputs": [],
   "source": [
    "from pydbgen import pydbgen\n",
    "import pandas as pd\n",
    "import random\n",
    "import numpy\n",
    "from random import randrange\n",
    "from datetime import timedelta\n",
    "from datetime import datetime"
   ]
  },
  {
   "cell_type": "code",
   "execution_count": 32,
   "id": "393ceb45-d784-4df0-8ed9-ef9f160b8d4b",
   "metadata": {},
   "outputs": [],
   "source": [
    "numpy.random.seed(10)\n",
    "random.seed(10)\n",
    "pydbseed = 10\n",
    "\n",
    "myDB = pydbgen.pydb(seed=pydbseed)"
   ]
  },
  {
   "cell_type": "code",
   "execution_count": 33,
   "id": "4d41e3dc-5d18-4916-bd50-31a1e0503ab7",
   "metadata": {},
   "outputs": [],
   "source": [
    "customers=myDB.gen_dataframe(\n",
    "1000, fields=['name','date','city','state','zipcode','phone','email'],\n",
    "real_email=True,phone_simple=True,real_city=True\n",
    ")"
   ]
  },
  {
   "cell_type": "code",
   "execution_count": 34,
   "id": "6ec674d8-e618-474b-bda0-931546bf4e94",
   "metadata": {},
   "outputs": [],
   "source": [
    "def apply_gender(x):\n",
    "    if x <=0.4: gender='male'\n",
    "    elif x <=0.8: gender='female'\n",
    "    else: gender='other'\n",
    "    return gender"
   ]
  },
  {
   "cell_type": "code",
   "execution_count": 35,
   "id": "ade1effa-1671-45a6-9ceb-895247cc960b",
   "metadata": {},
   "outputs": [],
   "source": [
    "customers['gender'] = [random.random() for row in customers['name']]\n",
    "customers['gender'] = [apply_gender(row) for row in customers['gender']]\n",
    "customers['customer_id'] = customers.index + 1\n",
    "customers = customers.rename(columns={'date':'birthdate'})"
   ]
  },
  {
   "cell_type": "code",
   "execution_count": 36,
   "id": "3ee6999b-20d8-4ecd-9199-ec19c047bdee",
   "metadata": {
    "tags": []
   },
   "outputs": [],
   "source": [
    "products = pd.read_csv('products.csv')"
   ]
  },
  {
   "cell_type": "code",
   "execution_count": 37,
   "id": "032a963f-991d-45dd-86b5-a441f412732e",
   "metadata": {
    "tags": []
   },
   "outputs": [],
   "source": [
    "food_choices = products['product_id'][products.type =='food'].values\n",
    "beverage_choices = products['product_id'][products.type =='beverage'].values\n",
    "extra_choices = products['product_id'][products.type =='extra'].values"
   ]
  },
  {
   "cell_type": "code",
   "execution_count": 38,
   "id": "5d428a30-68a6-4b94-a2fd-b67fbb5e36f4",
   "metadata": {
    "tags": []
   },
   "outputs": [],
   "source": [
    "def create_order():\n",
    "    customer_id = random.choice(customers['customer_id'])\n",
    "    food = []\n",
    "    drink = []\n",
    "    extra = []\n",
    "    complete = False\n",
    "    cycle_count = 0\n",
    "    while complete == False:\n",
    "        cycle_count += 1\n",
    "        if (0.9 - 0.1*len(food)**2) > random.random():\n",
    "            food_id = random.choice(food_choices)\n",
    "            food.append(food_id)\n",
    "            if 0.9 - 0.2*len(extra)**2 > random.random():\n",
    "                extra.append(random.choice(products['product_id'][(products['type'] =='extra') & (products['size'] == products['size'][products.product_id == food_id].values[0])].values))\n",
    "        if (0.25 + 0.5*(len(food)-len(drink)) > random.random()) and ((0.9 - 0.1*len(drink)**2) > random.random()):\n",
    "            drink.append(random.choice(beverage_choices))\n",
    "        if (len(food) > 0 or len(drink) > 0) and (.8*cycle_count**2 > random.random()):\n",
    "            complete = True\n",
    "    order_items = pd.DataFrame([*food, *drink, *extra], columns=['product_id'])\n",
    "    order_items['customer_id'] = customer_id\n",
    "    order_items = order_items.groupby(by=[\"product_id\"]).count().reset_index()\n",
    "    order_items = order_items.rename(columns ={'customer_id':'quantity'})\n",
    "    order_items['customer_id'] = customer_id\n",
    "    order_items = order_items.merge(products[['name','product_id','cost']], on='product_id', how='left')\n",
    "    orders = order_items\n",
    "    orders['subtotal'] = orders['quantity']*orders['cost']*100\n",
    "    orders = orders[['customer_id','quantity','subtotal']].groupby(by='customer_id').sum().reset_index()\n",
    "    orders['tax'] = int(0.13*orders['subtotal'])\n",
    "    orders['total'] = orders['subtotal'] + orders['tax']\n",
    "    orders['shop_id'][i] = random.randint(1,10)     # hard-coded 10 possible shop_ids here\n",
    "    orders = orders.astype('int32')\n",
    "    return order_items, orders"
   ]
  },
  {
   "cell_type": "code",
   "execution_count": 39,
   "id": "b7429c81-4d95-466d-94e0-d3185346fe3e",
   "metadata": {},
   "outputs": [
    {
     "data": {
      "text/html": [
       "<div>\n",
       "<style scoped>\n",
       "    .dataframe tbody tr th:only-of-type {\n",
       "        vertical-align: middle;\n",
       "    }\n",
       "\n",
       "    .dataframe tbody tr th {\n",
       "        vertical-align: top;\n",
       "    }\n",
       "\n",
       "    .dataframe thead th {\n",
       "        text-align: right;\n",
       "    }\n",
       "</style>\n",
       "<table border=\"1\" class=\"dataframe\">\n",
       "  <thead>\n",
       "    <tr style=\"text-align: right;\">\n",
       "      <th></th>\n",
       "      <th>customer_id</th>\n",
       "      <th>quantity</th>\n",
       "      <th>subtotal</th>\n",
       "      <th>tax</th>\n",
       "      <th>total</th>\n",
       "    </tr>\n",
       "  </thead>\n",
       "  <tbody>\n",
       "    <tr>\n",
       "      <th>0</th>\n",
       "      <td>845</td>\n",
       "      <td>3</td>\n",
       "      <td>797</td>\n",
       "      <td>103</td>\n",
       "      <td>900</td>\n",
       "    </tr>\n",
       "  </tbody>\n",
       "</table>\n",
       "</div>"
      ],
      "text/plain": [
       "   customer_id  quantity  subtotal  tax  total\n",
       "0          845         3       797  103    900"
      ]
     },
     "execution_count": 39,
     "metadata": {},
     "output_type": "execute_result"
    }
   ],
   "source": [
    "order_items, orders = create_order()\n",
    "orders"
   ]
  },
  {
   "cell_type": "code",
   "execution_count": 41,
   "id": "7e9c1c12-7e17-4b0d-bee6-788295ced59c",
   "metadata": {},
   "outputs": [],
   "source": [
    "order_items = pd.DataFrame()\n",
    "orders = pd.DataFrame()\n",
    "start = datetime.strptime('1/1/2021 12:00 AM', '%m/%d/%Y %I:%M %p')\n",
    "for i in range(1,10001):\n",
    "    item, order = create_order()\n",
    "    item['order_id'] = i\n",
    "    order['order_id'] = i\n",
    "    if i > 1:\n",
    "        start = orders['created_at'].loc[i-2]\n",
    "    random_second = randrange(10000)\n",
    "    created_at = start + timedelta(seconds=random_second)\n",
    "    item['created_at'] = created_at\n",
    "    order['created_at'] = created_at\n",
    "    order_items = pd.concat([order_items, item]).reset_index(drop=True)\n",
    "    orders = pd.concat([orders, order]).reset_index(drop=True)\n",
    "    if(random.random() > 0.99):\n",
    "        orders = pd.concat([orders, order]).reset_index(drop=True)"
   ]
  },
  {
   "cell_type": "code",
   "execution_count": null,
   "id": "9b1b58b2-d8b3-4092-890f-0bf74ccca882",
   "metadata": {},
   "outputs": [],
   "source": [
    "fulfillment = pd.DataFrame()\n",
    "for index, row in orders.iterrows():\n",
    "        order_created = orders[['order_id','customer_id','created_at']].loc[index]\n",
    "        order_created['event_id'] = 1\n",
    "        order_created['event_name'] = 'order_created'\n",
    "        order_id = order_created['order_id']\n",
    "        customer_id = order_created['customer_id']\n",
    "        random_second = randrange(10800)\n",
    "        order_packaged_at = order_created['created_at'] + timedelta(seconds=(random_second+3600))\n",
    "        order_created = pd.concat([pd.DataFrame(order_created, columns=['order_id','customer_id','created_at','event_id','event_name']), pd.DataFrame([[order_id, customer_id, order_packaged_at, 2, 'order_packaged']], columns=['order_id','customer_id','created_at','event_id','event_name'])])\n",
    "        random_second = randrange(15800)\n",
    "        order_shipped_at = order_packaged_at + timedelta(seconds=(random_second+20000))\n",
    "        order_created = pd.concat([order_created, pd.DataFrame([[order_id, customer_id, order_shipped_at, 3, 'order_shipped']], columns=['order_id','customer_id','created_at','event_id','event_name'])])\n",
    "        random_second = randrange(30800)\n",
    "        order_delivered_at = order_packaged_at + timedelta(seconds=(random_second+86400))\n",
    "        order_created = pd.concat([order_created, pd.DataFrame([[order_id, customer_id, order_delivered_at, 3, 'order_delivered']], columns=['order_id','customer_id','created_at','event_id','event_name'])])\n",
    "        fulfillment = pd.concat([fulfillment, order_created])"
   ]
  },
  {
   "cell_type": "code",
   "execution_count": null,
   "id": "bbdf69f6",
   "metadata": {},
   "outputs": [],
   "source": [
    "shop_1 = [1, '994 Rue Rachel E', 'Montreal', 'QC', 'CA', 'H2J 2J3', 45.52544975249137, -73.5748009172072]\n",
    "shop_2 = [2, '707 Dundas St W', 'Toronto', 'ON', 'CA', 'M5T 2W6', 43.65236871394612, -79.4047988562147]\n",
    "shop_3 = [3, '738 17 Ave SW', 'Calgary', 'AB', 'CA', 'T2S 0B7', 51.03799197323287, -114.07904892739653]\n",
    "shop_4 = [4, '200 Deschamps Ave', 'Ottawa', 'ON', 'CA', 'K1L 1A7', 45.436838542722256, -75.66492067103219]\n",
    "shop_5 = [5, '8720 109 St NW', 'Edmonton', 'AB', 'CA', 'T6G 1E9', 53.523360280166926, -113.5122736159145]\n",
    "shop_6 = [6, '236 Queen St S', 'Mississauga', 'ON', 'CA', 'L5M 1L5', 43.580863401527644, -79.71258919388798]\n",
    "shop_7 = [7, '219 St Marys Rd', 'Winnipeg', 'MB', 'CA', 'R2H 1J2', 49.87584376187938, -97.11791350910796]\n",
    "shop_8 = [8, '1215 Davie St', 'Vancouver', 'BC', 'CA', 'V6E 1N4', 49.28219628604949, -123.13344955779075]\n",
    "shop_9 = [9, '735 Rue Saint-Joseph E', 'Quebec City', 'QC', 'CA', 'G1K 3C6', 46.815787118751075, -71.21979772493185]\n",
    "shop_10 = [10, '5239 Blowers St', 'Halifax', 'NS', 'CA', 'B3J 1J8', 44.64531335610364, -63.57413202406409]\n",
    "\n",
    "shop_list = [shop_1,\n",
    "             shop_2,\n",
    "             shop_3,\n",
    "             shop_4,\n",
    "             shop_5,\n",
    "             shop_6,\n",
    "             shop_7,\n",
    "             shop_8,\n",
    "             shop_9,\n",
    "             shop_10]\n",
    "\n",
    "df_shops = pd.DataFrame(shop_list, columns = ['ID','ADDRESS', 'CITY', 'PROVINCE','COUNTRY','POSTAL_CODE','LATITUDE','LONGITUDE'])"
   ]
  },
  {
   "cell_type": "code",
   "execution_count": null,
   "id": "f8585acc-3d50-40d2-b294-f5807574f72b",
   "metadata": {},
   "outputs": [],
   "source": [
    "orders.to_csv('orders.csv')\n",
    "order_items.to_csv('order_items.csv')\n",
    "fulfillment.to_csv('fulfillment.csv')\n",
    "customers.to_csv('customers.csv')\n",
    "df_shops.to_csv('shops.csv')"
   ]
  }
 ],
 "metadata": {
  "interpreter": {
   "hash": "30cad61a60cc250bc60c39034e4426d8305bb104d7d4274148f0463790aa6759"
  },
  "kernelspec": {
   "display_name": "Python 3.10.6 ('poutineshop')",
   "language": "python",
   "name": "python3"
  },
  "language_info": {
   "codemirror_mode": {
    "name": "ipython",
    "version": 3
   },
   "file_extension": ".py",
   "mimetype": "text/x-python",
   "name": "python",
   "nbconvert_exporter": "python",
   "pygments_lexer": "ipython3",
   "version": "3.10.6"
  }
 },
 "nbformat": 4,
 "nbformat_minor": 5
}
