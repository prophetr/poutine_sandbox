{
 "cells": [
  {
   "cell_type": "code",
   "execution_count": 6,
   "id": "5bc0191b-9228-4f90-8c95-6a76d6ee4a04",
   "metadata": {},
   "outputs": [],
   "source": [
    "import snowflake.connector\n",
    "from pydbgen import pydbgen\n",
    "import pandas as pd\n",
    "import random\n",
    "import numpy\n",
    "from random import randrange\n",
    "from datetime import timedelta\n",
    "from datetime import datetime"
   ]
  },
  {
   "cell_type": "code",
   "execution_count": 2,
   "id": "f26d493b-268b-4f2e-8089-9e5e853ff2e6",
   "metadata": {},
   "outputs": [
    {
     "name": "stdout",
     "output_type": "stream",
     "text": [
      "Initiating login request with your identity provider. A browser window should have opened for you to complete the login. If you can't see it, check existing browser windows, or your OS settings. Press CTRL+C to abort and try again...\n"
     ]
    }
   ],
   "source": [
    "ctx = snowflake.connector.connect(\n",
    "    user='alex.ostojic',\n",
    "    password='<password>',\n",
    "    authenticator = 'externalbrowser',\n",
    "    account = 'lo43931.us-central1.gcp'\n",
    ")"
   ]
  },
  {
   "cell_type": "code",
   "execution_count": 3,
   "id": "ecb97bdc-8b9b-4953-9412-3c4d7fb322d0",
   "metadata": {},
   "outputs": [
    {
     "data": {
      "text/plain": [
       "<snowflake.connector.cursor.SnowflakeCursor at 0x7f5ef4242be0>"
      ]
     },
     "execution_count": 3,
     "metadata": {},
     "output_type": "execute_result"
    }
   ],
   "source": [
    "cur = ctx.cursor()\n",
    "cur.execute(\"select * from poutineshop_raw_db.raw_data.order_items\")"
   ]
  },
  {
   "cell_type": "code",
   "execution_count": 4,
   "id": "84473206-bd39-4645-bd1d-2ed01a314a89",
   "metadata": {},
   "outputs": [],
   "source": [
    "df = cur.fetch_pandas_all()"
   ]
  },
  {
   "cell_type": "code",
   "execution_count": 5,
   "id": "a5169e3d-340c-4af3-b76e-1816a8496fb1",
   "metadata": {},
   "outputs": [
    {
     "data": {
      "text/html": [
       "<div>\n",
       "<style scoped>\n",
       "    .dataframe tbody tr th:only-of-type {\n",
       "        vertical-align: middle;\n",
       "    }\n",
       "\n",
       "    .dataframe tbody tr th {\n",
       "        vertical-align: top;\n",
       "    }\n",
       "\n",
       "    .dataframe thead th {\n",
       "        text-align: right;\n",
       "    }\n",
       "</style>\n",
       "<table border=\"1\" class=\"dataframe\">\n",
       "  <thead>\n",
       "    <tr style=\"text-align: right;\">\n",
       "      <th></th>\n",
       "      <th>ID</th>\n",
       "      <th>ORDER_ID</th>\n",
       "      <th>USER_ID</th>\n",
       "      <th>INVENTORY_ITEM_ID</th>\n",
       "      <th>SALE_PRICE</th>\n",
       "      <th>STATUS</th>\n",
       "      <th>CREATED_AT</th>\n",
       "      <th>RETURNED_AT</th>\n",
       "      <th>SHIPPED_AT</th>\n",
       "      <th>DELIVERED_AT</th>\n",
       "    </tr>\n",
       "  </thead>\n",
       "  <tbody>\n",
       "    <tr>\n",
       "      <th>0</th>\n",
       "      <td>298200</td>\n",
       "      <td>289346.0</td>\n",
       "      <td>31156</td>\n",
       "      <td>309204</td>\n",
       "      <td>10.750000</td>\n",
       "      <td>Complete</td>\n",
       "      <td>2021-06-14 09:27:48</td>\n",
       "      <td>NaT</td>\n",
       "      <td>2021-06-20 03:00:00</td>\n",
       "      <td>2021-06-23 03:00:00</td>\n",
       "    </tr>\n",
       "    <tr>\n",
       "      <th>1</th>\n",
       "      <td>298201</td>\n",
       "      <td>289347.0</td>\n",
       "      <td>31169</td>\n",
       "      <td>309205</td>\n",
       "      <td>54.000000</td>\n",
       "      <td>Complete</td>\n",
       "      <td>2021-05-24 19:26:50</td>\n",
       "      <td>NaT</td>\n",
       "      <td>2021-05-26 03:00:00</td>\n",
       "      <td>2021-06-01 03:00:00</td>\n",
       "    </tr>\n",
       "    <tr>\n",
       "      <th>2</th>\n",
       "      <td>298202</td>\n",
       "      <td>289348.0</td>\n",
       "      <td>31169</td>\n",
       "      <td>309206</td>\n",
       "      <td>54.000000</td>\n",
       "      <td>Complete</td>\n",
       "      <td>2021-05-24 19:30:24</td>\n",
       "      <td>NaT</td>\n",
       "      <td>2021-05-27 03:00:00</td>\n",
       "      <td>2021-05-31 03:00:00</td>\n",
       "    </tr>\n",
       "    <tr>\n",
       "      <th>3</th>\n",
       "      <td>298203</td>\n",
       "      <td>289349.0</td>\n",
       "      <td>31194</td>\n",
       "      <td>309207</td>\n",
       "      <td>75.110001</td>\n",
       "      <td>Complete</td>\n",
       "      <td>2020-12-31 20:14:06</td>\n",
       "      <td>NaT</td>\n",
       "      <td>2021-01-04 03:00:00</td>\n",
       "      <td>2021-01-07 03:00:00</td>\n",
       "    </tr>\n",
       "    <tr>\n",
       "      <th>4</th>\n",
       "      <td>298204</td>\n",
       "      <td>289350.0</td>\n",
       "      <td>31201</td>\n",
       "      <td>309208</td>\n",
       "      <td>59.990002</td>\n",
       "      <td>Complete</td>\n",
       "      <td>2021-04-30 20:05:02</td>\n",
       "      <td>NaT</td>\n",
       "      <td>2021-05-04 03:00:00</td>\n",
       "      <td>2021-05-11 03:00:00</td>\n",
       "    </tr>\n",
       "  </tbody>\n",
       "</table>\n",
       "</div>"
      ],
      "text/plain": [
       "       ID  ORDER_ID  USER_ID  INVENTORY_ITEM_ID  SALE_PRICE    STATUS  \\\n",
       "0  298200  289346.0    31156             309204   10.750000  Complete   \n",
       "1  298201  289347.0    31169             309205   54.000000  Complete   \n",
       "2  298202  289348.0    31169             309206   54.000000  Complete   \n",
       "3  298203  289349.0    31194             309207   75.110001  Complete   \n",
       "4  298204  289350.0    31201             309208   59.990002  Complete   \n",
       "\n",
       "           CREATED_AT RETURNED_AT          SHIPPED_AT        DELIVERED_AT  \n",
       "0 2021-06-14 09:27:48         NaT 2021-06-20 03:00:00 2021-06-23 03:00:00  \n",
       "1 2021-05-24 19:26:50         NaT 2021-05-26 03:00:00 2021-06-01 03:00:00  \n",
       "2 2021-05-24 19:30:24         NaT 2021-05-27 03:00:00 2021-05-31 03:00:00  \n",
       "3 2020-12-31 20:14:06         NaT 2021-01-04 03:00:00 2021-01-07 03:00:00  \n",
       "4 2021-04-30 20:05:02         NaT 2021-05-04 03:00:00 2021-05-11 03:00:00  "
      ]
     },
     "execution_count": 5,
     "metadata": {},
     "output_type": "execute_result"
    }
   ],
   "source": [
    "df.head()"
   ]
  },
  {
   "cell_type": "code",
   "execution_count": null,
   "id": "903f05c4-805c-4b19-9a4c-a51040776e04",
   "metadata": {},
   "outputs": [],
   "source": []
  }
 ],
 "metadata": {
  "kernelspec": {
   "display_name": "Python 3 (ipykernel)",
   "language": "python",
   "name": "python3"
  },
  "language_info": {
   "codemirror_mode": {
    "name": "ipython",
    "version": 3
   },
   "file_extension": ".py",
   "mimetype": "text/x-python",
   "name": "python",
   "nbconvert_exporter": "python",
   "pygments_lexer": "ipython3",
   "version": "3.8.10"
  }
 },
 "nbformat": 4,
 "nbformat_minor": 5
}
